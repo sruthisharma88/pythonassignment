{
 "cells": [
  {
   "cell_type": "markdown",
   "id": "c315728e",
   "metadata": {},
   "source": [
    "# 1"
   ]
  },
  {
   "cell_type": "code",
   "execution_count": 1,
   "id": "631be443",
   "metadata": {},
   "outputs": [
    {
     "data": {
      "text/plain": [
       "\"Integer-6\\nstring-'hello'\\nexpression-* / + -\\nfloat- -87.8\""
      ]
     },
     "execution_count": 1,
     "metadata": {},
     "output_type": "execute_result"
    }
   ],
   "source": [
    "'''Integer-6\n",
    "string-'hello'\n",
    "operators-* / + -\n",
    "float- -87.8'''"
   ]
  },
  {
   "cell_type": "markdown",
   "id": "0b1a3ed1",
   "metadata": {},
   "source": [
    "## 2 strings & variables \n"
   ]
  },
  {
   "cell_type": "code",
   "execution_count": null,
   "id": "26db4608",
   "metadata": {},
   "outputs": [],
   "source": [
    "\n",
    "'''\n",
    "string- strings are set of characters that are enclosed in single, double or triple quotations\n",
    "variable- variable is a named location used to store data in memory.In python, you declare and change the value of the\n",
    "variable when at any time'''"
   ]
  },
  {
   "cell_type": "markdown",
   "id": "a7663964",
   "metadata": {},
   "source": [
    "### 3 data types"
   ]
  },
  {
   "cell_type": "code",
   "execution_count": null,
   "id": "c4b1f46f",
   "metadata": {},
   "outputs": [],
   "source": [
    "'''Data types are used to define what type of data is stored in variables \n",
    "3 main data types in python are \n",
    "1.lists- an ordered collection of items.mutable, enclosed in []\n",
    "2.Tuple-immutable ,enclosed in ()\n",
    "3.Dictionaries-unordered collection of elements. contains key-value pair mutable , enclosed in {}\n",
    "\n",
    "\n",
    "\n",
    "INTEGER(int)- whole numbers without factorial component\n",
    "BOOLEAN(bool)- True,False\n",
    "strings(str)-squence of characters\n",
    "floats(float)- decimal numbers'''"
   ]
  },
  {
   "cell_type": "markdown",
   "id": "329fce1d",
   "metadata": {},
   "source": [
    "# 4 expressions"
   ]
  },
  {
   "cell_type": "code",
   "execution_count": null,
   "id": "019baed2",
   "metadata": {},
   "outputs": [],
   "source": [
    "'''expressions are made up of the mathematical operators. They evaluate values as the result. \n",
    "example: A=10\n",
    "B=20\n",
    "A+B=C is an expression \n",
    "print(c)\n",
    "output:30 '''"
   ]
  },
  {
   "cell_type": "markdown",
   "id": "8669cb5d",
   "metadata": {},
   "source": [
    "# 5 expression vs statement"
   ]
  },
  {
   "cell_type": "code",
   "execution_count": null,
   "id": "25ce01eb",
   "metadata": {},
   "outputs": [],
   "source": [
    "'''statement is a logical instruction that the python interperter can read and execute.\n",
    "while expressions are made up of operators.they evaluate results'''"
   ]
  },
  {
   "cell_type": "markdown",
   "id": "a2e8af52",
   "metadata": {},
   "source": [
    "# 6"
   ]
  },
  {
   "cell_type": "code",
   "execution_count": 2,
   "id": "42217257",
   "metadata": {},
   "outputs": [
    {
     "data": {
      "text/plain": [
       "23"
      ]
     },
     "execution_count": 2,
     "metadata": {},
     "output_type": "execute_result"
    }
   ],
   "source": [
    "bacon=22\n",
    "bacon+1"
   ]
  },
  {
   "cell_type": "markdown",
   "id": "e49aed3a",
   "metadata": {},
   "source": [
    "# 7"
   ]
  },
  {
   "cell_type": "code",
   "execution_count": 8,
   "id": "707e13fa",
   "metadata": {},
   "outputs": [
    {
     "data": {
      "text/plain": [
       "'spamspamspam'"
      ]
     },
     "execution_count": 8,
     "metadata": {},
     "output_type": "execute_result"
    }
   ],
   "source": [
    "'spam'+'spamspam'"
   ]
  },
  {
   "cell_type": "code",
   "execution_count": 11,
   "id": "d7bb3c80",
   "metadata": {},
   "outputs": [
    {
     "data": {
      "text/plain": [
       "'spamspamspam'"
      ]
     },
     "execution_count": 11,
     "metadata": {},
     "output_type": "execute_result"
    }
   ],
   "source": [
    "'spam'*3"
   ]
  },
  {
   "cell_type": "markdown",
   "id": "b7a01143",
   "metadata": {},
   "source": [
    "# 8"
   ]
  },
  {
   "cell_type": "code",
   "execution_count": null,
   "id": "bfc42cf9",
   "metadata": {},
   "outputs": [],
   "source": [
    "'''numbers cannot be used as variables, so 100 is invalid.'''"
   ]
  },
  {
   "cell_type": "markdown",
   "id": "9da9e994",
   "metadata": {},
   "source": [
    "# 9"
   ]
  },
  {
   "cell_type": "code",
   "execution_count": null,
   "id": "8828e2be",
   "metadata": {},
   "outputs": [],
   "source": [
    "'''for integer- int()\n",
    "float- float()\n",
    "string- printf()'''"
   ]
  },
  {
   "cell_type": "markdown",
   "id": "b4ad3591",
   "metadata": {},
   "source": [
    "# 10"
   ]
  },
  {
   "cell_type": "code",
   "execution_count": 13,
   "id": "748e179c",
   "metadata": {},
   "outputs": [
    {
     "name": "stdout",
     "output_type": "stream",
     "text": [
      "i have eaten 99 burritos\n"
     ]
    }
   ],
   "source": [
    "print('i have eaten 99 burritos')\n",
    "\n",
    "\n",
    "'''    'i have eaten +99+ burritos'   \n",
    "error +  ''' "
   ]
  }
 ],
 "metadata": {
  "kernelspec": {
   "display_name": "Python 3 (ipykernel)",
   "language": "python",
   "name": "python3"
  },
  "language_info": {
   "codemirror_mode": {
    "name": "ipython",
    "version": 3
   },
   "file_extension": ".py",
   "mimetype": "text/x-python",
   "name": "python",
   "nbconvert_exporter": "python",
   "pygments_lexer": "ipython3",
   "version": "3.11.4"
  }
 },
 "nbformat": 4,
 "nbformat_minor": 5
}
