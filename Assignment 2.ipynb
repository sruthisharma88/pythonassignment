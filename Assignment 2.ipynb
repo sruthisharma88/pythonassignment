{
 "cells": [
  {
   "cell_type": "markdown",
   "id": "8cf2d696",
   "metadata": {},
   "source": [
    "# 1.Boolean data types"
   ]
  },
  {
   "cell_type": "code",
   "execution_count": 1,
   "id": "0f98a8be",
   "metadata": {},
   "outputs": [
    {
     "data": {
      "text/plain": [
       "False"
      ]
     },
     "execution_count": 1,
     "metadata": {},
     "output_type": "execute_result"
    }
   ],
   "source": [
    "#The true values of the boolean type are 1. TRUE(0) 2. FALSE(1).\n",
    "A=12\n",
    "B=13\n",
    "A>B\n"
   ]
  },
  {
   "cell_type": "code",
   "execution_count": 2,
   "id": "c5dee051",
   "metadata": {},
   "outputs": [
    {
     "data": {
      "text/plain": [
       "True"
      ]
     },
     "execution_count": 2,
     "metadata": {},
     "output_type": "execute_result"
    }
   ],
   "source": [
    "A<B"
   ]
  },
  {
   "cell_type": "markdown",
   "id": "077eff6e",
   "metadata": {},
   "source": [
    "# 2.Boolean Operators"
   ]
  },
  {
   "cell_type": "code",
   "execution_count": null,
   "id": "4005191c",
   "metadata": {},
   "outputs": [],
   "source": [
    "'''  3 TYPES OF BOOLEAN OPERATORS \n",
    "1.AND\n",
    "2.OR\n",
    "3.NOT\n",
    "'''\n"
   ]
  },
  {
   "cell_type": "markdown",
   "id": "921b6102",
   "metadata": {},
   "source": [
    "# 3.Boolean operator truth table"
   ]
  },
  {
   "cell_type": "code",
   "execution_count": 8,
   "id": "3096bd0f",
   "metadata": {
    "scrolled": true
   },
   "outputs": [
    {
     "data": {
      "text/plain": [
       "False"
      ]
     },
     "execution_count": 8,
     "metadata": {},
     "output_type": "execute_result"
    }
   ],
   "source": [
    "''' AND Operator\n",
    "    a=True    a=False        a=True      a=False\n",
    "    b=False   b=False        b=True      b=True\n",
    "    a and b   a and b        a and b     a and b\n",
    "output:False  output:False   output:True  output:False      '''"
   ]
  },
  {
   "cell_type": "code",
   "execution_count": null,
   "id": "fcd6f074",
   "metadata": {},
   "outputs": [],
   "source": [
    "'''OR OPERATOR\n",
    "     a=False     a=True     a=False      a=True\n",
    "     b=True      b=True     b=False      b=False\n",
    "     a or b      a or b     a or b       a or b\n",
    " output: True  output:True  output:False output:True '''"
   ]
  },
  {
   "cell_type": "code",
   "execution_count": null,
   "id": "ee2e6b47",
   "metadata": {},
   "outputs": [],
   "source": [
    "'''NOT OPERATOR     \n",
    "      a=False       a=True\n",
    "      not a         not a\n",
    " output:True     output:False\n",
    "'''"
   ]
  },
  {
   "cell_type": "markdown",
   "id": "b8c15250",
   "metadata": {},
   "source": [
    "# 4.\n"
   ]
  },
  {
   "cell_type": "code",
   "execution_count": 19,
   "id": "298c8b69",
   "metadata": {},
   "outputs": [
    {
     "data": {
      "text/plain": [
       "False"
      ]
     },
     "execution_count": 19,
     "metadata": {},
     "output_type": "execute_result"
    }
   ],
   "source": [
    "5>4 and 3==5"
   ]
  },
  {
   "cell_type": "code",
   "execution_count": 20,
   "id": "b90fe358",
   "metadata": {},
   "outputs": [
    {
     "data": {
      "text/plain": [
       "False"
      ]
     },
     "execution_count": 20,
     "metadata": {},
     "output_type": "execute_result"
    }
   ],
   "source": [
    "not(5>4)"
   ]
  },
  {
   "cell_type": "code",
   "execution_count": 21,
   "id": "efa55a55",
   "metadata": {},
   "outputs": [
    {
     "data": {
      "text/plain": [
       "True"
      ]
     },
     "execution_count": 21,
     "metadata": {},
     "output_type": "execute_result"
    }
   ],
   "source": [
    "(5>4)or(3==5)"
   ]
  },
  {
   "cell_type": "code",
   "execution_count": 22,
   "id": "4c45254e",
   "metadata": {},
   "outputs": [
    {
     "data": {
      "text/plain": [
       "False"
      ]
     },
     "execution_count": 22,
     "metadata": {},
     "output_type": "execute_result"
    }
   ],
   "source": [
    "not((5>4)or(3==5))"
   ]
  },
  {
   "cell_type": "code",
   "execution_count": 23,
   "id": "bf078562",
   "metadata": {},
   "outputs": [
    {
     "data": {
      "text/plain": [
       "False"
      ]
     },
     "execution_count": 23,
     "metadata": {},
     "output_type": "execute_result"
    }
   ],
   "source": [
    "(True and True)and(True==False)"
   ]
  },
  {
   "cell_type": "code",
   "execution_count": 24,
   "id": "e902354b",
   "metadata": {},
   "outputs": [
    {
     "data": {
      "text/plain": [
       "True"
      ]
     },
     "execution_count": 24,
     "metadata": {},
     "output_type": "execute_result"
    }
   ],
   "source": [
    "(not False)or(not True)"
   ]
  },
  {
   "cell_type": "markdown",
   "id": "98f277e5",
   "metadata": {},
   "source": [
    "# 5.comparsion operators"
   ]
  },
  {
   "cell_type": "markdown",
   "id": "b0ad7c0f",
   "metadata": {},
   "source": [
    "'''less than(<) \n",
    "greater than(>)\n",
    "equal to(==)\n",
    "not equal to(!=)\n",
    "greater than or equal to(>=)\n",
    "less than or equal to(<=)'''"
   ]
  },
  {
   "cell_type": "markdown",
   "id": "3f96e89d",
   "metadata": {},
   "source": [
    "# 6."
   ]
  },
  {
   "cell_type": "code",
   "execution_count": 28,
   "id": "162efd33",
   "metadata": {},
   "outputs": [
    {
     "name": "stdout",
     "output_type": "stream",
     "text": [
      "False\n",
      "10\n"
     ]
    }
   ],
   "source": [
    "#Assignment operator:(=)it sets the value to the variable\n",
    "#Equal to:(==)it compares the variables\n",
    "a=10\n",
    "b=20\n",
    "print(a==b)\n",
    "print(a)"
   ]
  },
  {
   "cell_type": "markdown",
   "id": "afb73aa5",
   "metadata": {},
   "source": [
    "# 7."
   ]
  },
  {
   "cell_type": "code",
   "execution_count": 31,
   "id": "5324cd87",
   "metadata": {},
   "outputs": [
    {
     "name": "stdout",
     "output_type": "stream",
     "text": [
      "ham\n",
      "spam\n",
      "spam\n"
     ]
    }
   ],
   "source": [
    "spam=0\n",
    "if spam==10:\n",
    "     print('eggs')\n",
    "if spam>5:\n",
    "    print('bacon')\n",
    "else:\n",
    "    print('ham')\n",
    "    print('spam')\n",
    "    print('spam')"
   ]
  },
  {
   "cell_type": "markdown",
   "id": "aaa03259",
   "metadata": {},
   "source": [
    "# 8."
   ]
  },
  {
   "cell_type": "code",
   "execution_count": 50,
   "id": "5a9f5c36",
   "metadata": {},
   "outputs": [
    {
     "name": "stdout",
     "output_type": "stream",
     "text": [
      "howdy\n"
     ]
    }
   ],
   "source": [
    "spam=2\n",
    "if spam==1:\n",
    "    print(\"hello\")\n",
    "if spam==2:\n",
    "    print(\"howdy\")\n",
    "else:\n",
    "    print(\"greetings\")"
   ]
  },
  {
   "cell_type": "markdown",
   "id": "aaf3a856",
   "metadata": {},
   "source": [
    "# 9."
   ]
  },
  {
   "cell_type": "code",
   "execution_count": null,
   "id": "c6faa43c",
   "metadata": {},
   "outputs": [],
   "source": [
    "''' providing BREAK Statement will end the loop or esle we can press ctrl+c'''"
   ]
  },
  {
   "cell_type": "markdown",
   "id": "38ccad96",
   "metadata": {},
   "source": [
    "# 10."
   ]
  },
  {
   "cell_type": "code",
   "execution_count": null,
   "id": "3794ce29",
   "metadata": {},
   "outputs": [],
   "source": [
    "''' In Python,Break keyword immediadtely terminates the loop. \n",
    "while Continue keyword stops the present iteration and continues the loop. '''"
   ]
  },
  {
   "cell_type": "markdown",
   "id": "203d7fa5",
   "metadata": {},
   "source": [
    "# 11"
   ]
  },
  {
   "cell_type": "code",
   "execution_count": 52,
   "id": "b50350dc",
   "metadata": {},
   "outputs": [
    {
     "name": "stdout",
     "output_type": "stream",
     "text": [
      "0\n",
      "1\n",
      "2\n",
      "3\n",
      "4\n",
      "5\n",
      "6\n",
      "7\n",
      "8\n",
      "9\n"
     ]
    }
   ],
   "source": [
    "for a in range(10):\n",
    "    print(a)\n"
   ]
  },
  {
   "cell_type": "code",
   "execution_count": 53,
   "id": "ed96206e",
   "metadata": {},
   "outputs": [
    {
     "name": "stdout",
     "output_type": "stream",
     "text": [
      "0\n",
      "1\n",
      "2\n",
      "3\n",
      "4\n",
      "5\n",
      "6\n",
      "7\n",
      "8\n",
      "9\n"
     ]
    }
   ],
   "source": [
    "for a in range(0,10):\n",
    "    print(a)"
   ]
  },
  {
   "cell_type": "code",
   "execution_count": 55,
   "id": "37ee3a36",
   "metadata": {},
   "outputs": [
    {
     "name": "stdout",
     "output_type": "stream",
     "text": [
      "0\n",
      "1\n",
      "2\n",
      "3\n",
      "4\n",
      "5\n",
      "6\n",
      "7\n",
      "8\n",
      "9\n"
     ]
    }
   ],
   "source": [
    "for a in range(0,10,1):\n",
    "    print(a)"
   ]
  },
  {
   "cell_type": "markdown",
   "id": "40e2b081",
   "metadata": {},
   "source": [
    "# 12."
   ]
  },
  {
   "cell_type": "code",
   "execution_count": 59,
   "id": "d9d7b02b",
   "metadata": {},
   "outputs": [
    {
     "name": "stdout",
     "output_type": "stream",
     "text": [
      "1\n",
      "2\n",
      "3\n",
      "4\n",
      "5\n",
      "6\n",
      "7\n",
      "8\n",
      "9\n",
      "10\n"
     ]
    }
   ],
   "source": [
    "for a in range(1,11):\n",
    "    print(a)"
   ]
  },
  {
   "cell_type": "code",
   "execution_count": 80,
   "id": "8d735493",
   "metadata": {},
   "outputs": [
    {
     "name": "stdout",
     "output_type": "stream",
     "text": [
      "1\n",
      "2\n",
      "3\n",
      "4\n",
      "5\n",
      "6\n",
      "7\n",
      "8\n",
      "9\n",
      "10\n"
     ]
    }
   ],
   "source": [
    "a=1\n",
    "\n",
    "while a<10:\n",
    "    print(a)\n",
    "    a+=1\n",
    "    if a==10:\n",
    "        print(a)"
   ]
  },
  {
   "cell_type": "markdown",
   "id": "d8f04aaa",
   "metadata": {},
   "source": [
    "# 13."
   ]
  },
  {
   "cell_type": "code",
   "execution_count": 88,
   "id": "c3ee44d7",
   "metadata": {},
   "outputs": [
    {
     "name": "stdout",
     "output_type": "stream",
     "text": [
      "spam\n"
     ]
    }
   ],
   "source": [
    "def bacon():\n",
    "    print('spam')\n",
    "    \n",
    "bacon()\n",
    "    "
   ]
  },
  {
   "cell_type": "code",
   "execution_count": 90,
   "id": "5d445093",
   "metadata": {},
   "outputs": [
    {
     "name": "stdout",
     "output_type": "stream",
     "text": [
      "spam\n"
     ]
    }
   ],
   "source": [
    "bacon()"
   ]
  },
  {
   "cell_type": "code",
   "execution_count": null,
   "id": "1c5de486",
   "metadata": {},
   "outputs": [],
   "source": []
  }
 ],
 "metadata": {
  "kernelspec": {
   "display_name": "Python 3 (ipykernel)",
   "language": "python",
   "name": "python3"
  },
  "language_info": {
   "codemirror_mode": {
    "name": "ipython",
    "version": 3
   },
   "file_extension": ".py",
   "mimetype": "text/x-python",
   "name": "python",
   "nbconvert_exporter": "python",
   "pygments_lexer": "ipython3",
   "version": "3.11.4"
  }
 },
 "nbformat": 4,
 "nbformat_minor": 5
}
