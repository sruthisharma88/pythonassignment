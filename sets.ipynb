{
  "nbformat": 4,
  "nbformat_minor": 0,
  "metadata": {
    "colab": {
      "provenance": [],
      "authorship_tag": "ABX9TyNv+hsORn0N8mglqIFc5GFd",
      "include_colab_link": true
    },
    "kernelspec": {
      "name": "python3",
      "display_name": "Python 3"
    },
    "language_info": {
      "name": "python"
    }
  },
  "cells": [
    {
      "cell_type": "markdown",
      "metadata": {
        "id": "view-in-github",
        "colab_type": "text"
      },
      "source": [
        "<a href=\"https://colab.research.google.com/github/sruthisharma88/pythonassignment/blob/main/sets.ipynb\" target=\"_parent\"><img src=\"https://colab.research.google.com/assets/colab-badge.svg\" alt=\"Open In Colab\"/></a>"
      ]
    },
    {
      "cell_type": "code",
      "execution_count": null,
      "metadata": {
        "colab": {
          "base_uri": "https://localhost:8080/"
        },
        "id": "ciumtbtZsRe8",
        "outputId": "7b803ac1-8ba0-4f04-aaec-feddfa34018f"
      },
      "outputs": [
        {
          "output_type": "stream",
          "name": "stdout",
          "text": [
            "apple\n",
            "banana\n",
            "carrot\n",
            "grapes\n"
          ]
        }
      ],
      "source": [
        "list1=['apple','banana','carrot','grapes']\n",
        "for i in list1:\n",
        "  print(i)"
      ]
    },
    {
      "cell_type": "code",
      "source": [
        "list1=['apple','mango','guava']\n",
        "for i in range(len(list1)):\n",
        "  print(i)\n",
        "  print(list1)\n",
        "  print(list1[i])"
      ],
      "metadata": {
        "colab": {
          "base_uri": "https://localhost:8080/"
        },
        "id": "r3rTqGP1uhAr",
        "outputId": "7f0041ee-c3db-4f23-a787-7e043d822655"
      },
      "execution_count": null,
      "outputs": [
        {
          "output_type": "stream",
          "name": "stdout",
          "text": [
            "0\n",
            "['apple', 'mango', 'guava']\n",
            "apple\n",
            "1\n",
            "['apple', 'mango', 'guava']\n",
            "mango\n",
            "2\n",
            "['apple', 'mango', 'guava']\n",
            "guava\n"
          ]
        }
      ]
    },
    {
      "cell_type": "code",
      "source": [
        "#union\n",
        "set1={\"apple\",\"carrot\",\"tomatoes\"}\n",
        "set2={1,2,3,4,8}\n",
        "set3=set2.union(set1)\n",
        "print(set3)"
      ],
      "metadata": {
        "colab": {
          "base_uri": "https://localhost:8080/"
        },
        "id": "Z4UkE-JpvmvF",
        "outputId": "912a4158-0e2b-4c39-e646-f59d2011a670"
      },
      "execution_count": null,
      "outputs": [
        {
          "output_type": "stream",
          "name": "stdout",
          "text": [
            "{'tomatoes', 1, 2, 3, 4, 8, 'apple', 'carrot'}\n"
          ]
        }
      ]
    },
    {
      "cell_type": "code",
      "source": [
        "#update\n",
        "ab={\"apple\",1,3,6}\n",
        "ba={\"girl\",8,9,10}\n",
        "ab.update(ba)\n",
        "print(ab)"
      ],
      "metadata": {
        "colab": {
          "base_uri": "https://localhost:8080/"
        },
        "id": "60HjopAbU_D_",
        "outputId": "6e89ced7-643c-492b-f51a-1474f374b35b"
      },
      "execution_count": null,
      "outputs": [
        {
          "output_type": "stream",
          "name": "stdout",
          "text": [
            "{1, 3, 6, 8, 9, 10, 'apple', 'girl'}\n"
          ]
        }
      ]
    },
    {
      "cell_type": "code",
      "source": [
        "set1={\"sruthi\",\"swetha\"}\n",
        "set2={\"jaga\",\"paddu\"}\n",
        "set1.update(set2)\n",
        "print(set1)"
      ],
      "metadata": {
        "colab": {
          "base_uri": "https://localhost:8080/"
        },
        "id": "rBJmS077XoFI",
        "outputId": "49bb5a62-3e0a-4d4b-ab8f-2169a966a6b9"
      },
      "execution_count": null,
      "outputs": [
        {
          "output_type": "stream",
          "name": "stdout",
          "text": [
            "{'jaga', 'paddu', 'sruthi', 'swetha'}\n"
          ]
        }
      ]
    },
    {
      "cell_type": "code",
      "source": [
        "set1.union(set2)\n",
        "print(set1)"
      ],
      "metadata": {
        "colab": {
          "base_uri": "https://localhost:8080/"
        },
        "id": "5CzNJfzPXoIo",
        "outputId": "ce127004-b071-4573-b56a-c883b880b19d"
      },
      "execution_count": null,
      "outputs": [
        {
          "output_type": "stream",
          "name": "stdout",
          "text": [
            "{'jaga', 'paddu', 'sruthi', 'swetha'}\n"
          ]
        }
      ]
    },
    {
      "cell_type": "code",
      "source": [
        "set1.intersection(set2)"
      ],
      "metadata": {
        "colab": {
          "base_uri": "https://localhost:8080/"
        },
        "id": "XEpOKRDuYOCz",
        "outputId": "d8079b2d-2bd0-4b1f-a366-efa988338f8b"
      },
      "execution_count": null,
      "outputs": [
        {
          "output_type": "execute_result",
          "data": {
            "text/plain": [
              "{'jaga', 'paddu'}"
            ]
          },
          "metadata": {},
          "execution_count": 9
        }
      ]
    },
    {
      "cell_type": "code",
      "source": [
        "set1.intersection_update(set2)\n",
        "print(set1)"
      ],
      "metadata": {
        "colab": {
          "base_uri": "https://localhost:8080/"
        },
        "id": "dys1ayUSZIOG",
        "outputId": "45e85c50-7505-4b1e-9ac5-e8039d8965b0"
      },
      "execution_count": null,
      "outputs": [
        {
          "output_type": "stream",
          "name": "stdout",
          "text": [
            "{'paddu', 'jaga'}\n"
          ]
        }
      ]
    },
    {
      "cell_type": "code",
      "source": [
        "set2={\"t\",\"g\",\"h\",\"u\"}\n",
        "set5={\"t\",\"g\",\"r\",\"w\"}\n",
        "set5.symmetric_difference_update(set2)   #duplicates are not printed\n",
        "print(set5)"
      ],
      "metadata": {
        "colab": {
          "base_uri": "https://localhost:8080/"
        },
        "id": "O3mCt492ZXot",
        "outputId": "97a6783b-d23c-4453-bd52-3fd66d10549f"
      },
      "execution_count": null,
      "outputs": [
        {
          "output_type": "stream",
          "name": "stdout",
          "text": [
            "{'r', 'w', 'h', 'u'}\n"
          ]
        }
      ]
    },
    {
      "cell_type": "code",
      "source": [
        "set6=set5.symmetric_difference(set2)\n",
        "print(set6)"
      ],
      "metadata": {
        "colab": {
          "base_uri": "https://localhost:8080/"
        },
        "id": "B6CuOaUMdjSd",
        "outputId": "c8df2c2e-ca00-43b6-804c-468f9e7b01e1"
      },
      "execution_count": null,
      "outputs": [
        {
          "output_type": "stream",
          "name": "stdout",
          "text": [
            "{'g', 'r', 't', 'w'}\n"
          ]
        }
      ]
    },
    {
      "cell_type": "code",
      "source": [
        "set7=set2.symmetric_difference(set5)\n",
        "print(set7)"
      ],
      "metadata": {
        "colab": {
          "base_uri": "https://localhost:8080/"
        },
        "id": "TJYlbIwjcIx6",
        "outputId": "27f51ea8-c389-4554-e71a-5a458e0f416a"
      },
      "execution_count": null,
      "outputs": [
        {
          "output_type": "stream",
          "name": "stdout",
          "text": [
            "{'g', 'r', 't', 'w'}\n"
          ]
        }
      ]
    },
    {
      "cell_type": "code",
      "source": [
        "#dictionary constructor\n",
        "wang=dict((name=90,carrot==100,bat==300))\n",
        "print(wang)"
      ],
      "metadata": {
        "colab": {
          "base_uri": "https://localhost:8080/",
          "height": 140
        },
        "id": "uoamqa98eInZ",
        "outputId": "264ccdb6-bef2-43fc-ae20-1c21206c1a43"
      },
      "execution_count": null,
      "outputs": [
        {
          "output_type": "error",
          "ename": "SyntaxError",
          "evalue": "ignored",
          "traceback": [
            "\u001b[0;36m  File \u001b[0;32m\"<ipython-input-25-83022c104421>\"\u001b[0;36m, line \u001b[0;32m2\u001b[0m\n\u001b[0;31m    wang=dict((name=90,carrot==100,bat==300))\u001b[0m\n\u001b[0m               ^\u001b[0m\n\u001b[0;31mSyntaxError\u001b[0m\u001b[0;31m:\u001b[0m invalid syntax. Maybe you meant '==' or ':=' instead of '='?\n"
          ]
        }
      ]
    },
    {
      "cell_type": "code",
      "source": [
        "#defined function\n",
        "def sruthi():\n",
        "  print(\"are you okay?\")\n",
        "sruthi()"
      ],
      "metadata": {
        "colab": {
          "base_uri": "https://localhost:8080/"
        },
        "id": "w0f_Ag4hk8Qv",
        "outputId": "6d3bc545-bd50-482d-952d-42ec544a3ff1"
      },
      "execution_count": null,
      "outputs": [
        {
          "output_type": "stream",
          "name": "stdout",
          "text": [
            "are you okay?\n"
          ]
        }
      ]
    },
    {
      "cell_type": "code",
      "source": [
        "def sruthi2(name):\n",
        "  print(name + \"are you okAY\")\n",
        "  sruthi2(\"swetha\")\n"
      ],
      "metadata": {
        "id": "xpJSK9oRqmTb"
      },
      "execution_count": null,
      "outputs": []
    },
    {
      "cell_type": "code",
      "source": [
        "age=int(input(\"enter the number:\"))\n",
        "if age>=18:\n",
        "  print(\"congs,you can drive\")"
      ],
      "metadata": {
        "id": "p-nFRKw6r6wb",
        "colab": {
          "base_uri": "https://localhost:8080/"
        },
        "outputId": "5002a57c-2b10-4e8a-ef16-69ffb75fa4a4"
      },
      "execution_count": 2,
      "outputs": [
        {
          "output_type": "stream",
          "name": "stdout",
          "text": [
            "enter the number:20\n",
            "congs,you can drive\n"
          ]
        }
      ]
    },
    {
      "cell_type": "code",
      "source": [
        "age=int(input(\"enter the number:\"))\n",
        "if age>=18:\n",
        "  print(\"congs,you can drive\")\n",
        "else:\n",
        "  print(\"sorry, you cannot drive\")"
      ],
      "metadata": {
        "colab": {
          "base_uri": "https://localhost:8080/"
        },
        "id": "26mZxkOD5ycW",
        "outputId": "ca6c0d21-8ca2-4f9e-816d-f7cd233d587b"
      },
      "execution_count": 3,
      "outputs": [
        {
          "output_type": "stream",
          "name": "stdout",
          "text": [
            "enter the number:16\n",
            "sorry, you cannot drive\n"
          ]
        }
      ]
    },
    {
      "cell_type": "code",
      "source": [
        "#capitalise name\n",
        "def format_name():\n",
        "  first_name=input(\"enter the name\")\n",
        "  second_name=input(\"enter the name\")\n",
        "\n",
        "  format_first_name=first_name.capitalize()\n",
        "  format_second_name=second_name.capitalize()\n",
        "  print(\"student name is\",format_first_name, format_second_name)\n",
        "format_name()"
      ],
      "metadata": {
        "colab": {
          "base_uri": "https://localhost:8080/"
        },
        "id": "psRWISah8kHM",
        "outputId": "24b92a60-7b6d-4ec6-e0ee-bde3420c0c72"
      },
      "execution_count": 9,
      "outputs": [
        {
          "output_type": "stream",
          "name": "stdout",
          "text": [
            "enter the namesruthi sharma\n",
            "enter the namevamkayalapati\n",
            "student name is Sruthi sharma Vamkayalapati\n"
          ]
        }
      ]
    },
    {
      "cell_type": "code",
      "source": [
        "#even numbers\n",
        "def print_even_number():\n",
        "  num1=int(input(\"enter the number:\"))\n",
        "  even_number= []\n",
        "  for num in range(1, n+1):\n",
        "      if num%2==0:\n",
        "        even_number.append(num)\n",
        "        print(\"even numbers\",num1,\"are:\", even_number)\n",
        "\n",
        "  print_even_number()\n"
      ],
      "metadata": {
        "id": "hlPEh6e89xrJ"
      },
      "execution_count": 18,
      "outputs": []
    },
    {
      "cell_type": "code",
      "source": [
        "\n",
        "XXx=lambda a,b,c:a*b*c\n",
        "print(XXx(23,67,90))\n",
        "\n"
      ],
      "metadata": {
        "colab": {
          "base_uri": "https://localhost:8080/"
        },
        "id": "_dvv1fasBD36",
        "outputId": "b0cdc353-e41a-42af-8009-0a9666eedd02"
      },
      "execution_count": 32,
      "outputs": [
        {
          "output_type": "stream",
          "name": "stdout",
          "text": [
            "138690\n"
          ]
        }
      ]
    },
    {
      "cell_type": "code",
      "source": [
        " #even or odd\n",
        " f=lambda x:\"even\" if x%2==0else \"odd\"\n",
        " print(f(45))"
      ],
      "metadata": {
        "colab": {
          "base_uri": "https://localhost:8080/"
        },
        "id": "YTSQnhKsAPdq",
        "outputId": "d996b215-f3bc-4913-ce34-326bbd03ac7e"
      },
      "execution_count": 35,
      "outputs": [
        {
          "output_type": "stream",
          "name": "stdout",
          "text": [
            "odd\n"
          ]
        }
      ]
    },
    {
      "cell_type": "code",
      "source": [
        "max_mum=lambda e: \"greater\" if e>=str(89) else \"lesser\"\n",
        "print(max_mum(input(\"enter the number\")))"
      ],
      "metadata": {
        "colab": {
          "base_uri": "https://localhost:8080/"
        },
        "id": "Tb56eX9MMdVi",
        "outputId": "2af78117-996a-41e8-874c-7d53fa03189d"
      },
      "execution_count": 40,
      "outputs": [
        {
          "output_type": "stream",
          "name": "stdout",
          "text": [
            "enter the number1200\n",
            "lesser\n"
          ]
        }
      ]
    },
    {
      "cell_type": "code",
      "source": [
        "maxx=lambda b:b*b*b\n",
        "print(maxx(int(input(\"enter the number\"))))"
      ],
      "metadata": {
        "colab": {
          "base_uri": "https://localhost:8080/"
        },
        "id": "EahpylrtOldx",
        "outputId": "15c1de25-c773-4d4d-9a92-9c0cd93bd582"
      },
      "execution_count": 45,
      "outputs": [
        {
          "output_type": "stream",
          "name": "stdout",
          "text": [
            "enter the number123\n",
            "1860867\n"
          ]
        }
      ]
    },
    {
      "cell_type": "code",
      "source": [
        "leko=lambda o,p:o+p\n",
        "print(leko(99,88))"
      ],
      "metadata": {
        "colab": {
          "base_uri": "https://localhost:8080/"
        },
        "id": "yPLaL95tPWJO",
        "outputId": "4b7cde07-7666-4c69-98c7-45ab2df56397"
      },
      "execution_count": 48,
      "outputs": [
        {
          "output_type": "stream",
          "name": "stdout",
          "text": [
            "187\n"
          ]
        }
      ]
    },
    {
      "cell_type": "code",
      "source": [
        "leki=lambda: int(input(\"enter the number:\"))+int(input(\"enter the number\"))\n",
        "print(leki)"
      ],
      "metadata": {
        "colab": {
          "base_uri": "https://localhost:8080/"
        },
        "id": "e9xIGuG8TOTR",
        "outputId": "5a87f481-6b4a-45fc-e9d8-79b518125fef"
      },
      "execution_count": 51,
      "outputs": [
        {
          "output_type": "stream",
          "name": "stdout",
          "text": [
            "<function <lambda> at 0x79a515bd2cb0>\n"
          ]
        }
      ]
    },
    {
      "cell_type": "code",
      "source": [
        "lol=lambda x:[i**2 for i in x]\n",
        "print(lol([2,3,4]))"
      ],
      "metadata": {
        "colab": {
          "base_uri": "https://localhost:8080/"
        },
        "id": "g6b2dlq9T4cq",
        "outputId": "b7f8c91d-d1d4-49e4-f4c3-749dc02d9387"
      },
      "execution_count": 4,
      "outputs": [
        {
          "output_type": "stream",
          "name": "stdout",
          "text": [
            "[4, 9, 16]\n"
          ]
        }
      ]
    },
    {
      "cell_type": "code",
      "source": [
        "square=lambda f:[i*8 for i in f]\n",
        "print(square([9,7,6]))"
      ],
      "metadata": {
        "colab": {
          "base_uri": "https://localhost:8080/"
        },
        "id": "f0o6Tq514Ymw",
        "outputId": "1892eeb4-fd77-4a38-fdfa-ccd2a49be1ac"
      },
      "execution_count": 6,
      "outputs": [
        {
          "output_type": "stream",
          "name": "stdout",
          "text": [
            "[72, 56, 48]\n"
          ]
        }
      ]
    },
    {
      "cell_type": "code",
      "source": [
        "products=[{\"apple\":\"phone\",\"price\":100000},\n",
        "          {\"carrot\":\"balance\",'price':2000000},\n",
        "          {\"earning\":\"mango\",'price':900000}]\n",
        "sorted_products= sorted(products, key=lambda x:x['price'],reverse=True) #reverse order\n",
        "\n",
        "for products in sorted_products:\n",
        "  print(products)"
      ],
      "metadata": {
        "colab": {
          "base_uri": "https://localhost:8080/"
        },
        "id": "6IJZMr7U5foI",
        "outputId": "9912ac90-016d-4168-c279-b17371d70b56"
      },
      "execution_count": 5,
      "outputs": [
        {
          "output_type": "stream",
          "name": "stdout",
          "text": [
            "{'carrot': 'balance', 'price': 2000000}\n",
            "{'earning': 'mango', 'price': 900000}\n",
            "{'apple': 'phone', 'price': 100000}\n"
          ]
        }
      ]
    },
    {
      "cell_type": "code",
      "source": [
        "#recursion\n",
        "def rec_sum(n):\n",
        "  if n==1:\n",
        "    return 1\n",
        "  else:\n",
        "      return n+rec_sum(n-1)#---->calling the function within the function\n",
        "print(rec_sum(5))#5+4+3+2+1"
      ],
      "metadata": {
        "colab": {
          "base_uri": "https://localhost:8080/"
        },
        "id": "qMRFHBlJ6leD",
        "outputId": "ff5962a0-f8a1-4be4-ba75-8810c13be89a"
      },
      "execution_count": 8,
      "outputs": [
        {
          "output_type": "stream",
          "name": "stdout",
          "text": [
            "15\n"
          ]
        }
      ]
    },
    {
      "cell_type": "code",
      "source": [
        "def sam_chocolate(l):\n",
        "  if l==0:\n",
        "    return 5\n",
        "  else:\n",
        "    return l- sam_chocolate(l-5)\n",
        "    print(sam_chocolate(9))"
      ],
      "metadata": {
        "id": "3i4j60c99mmg"
      },
      "execution_count": 13,
      "outputs": []
    },
    {
      "cell_type": "code",
      "source": [
        "#factorial of the number using recursion\n",
        "n=int(input(\"enter the number\"))\n",
        "def recrusive_factorial(n):\n",
        "  if n==1:\n",
        "    return 1\n",
        "  else:\n",
        "    return n*recrusive_factorial(n-1)\n",
        "print(recrusive_factorial(88)) #output =720\n",
        "#checking the input is valid or not\n",
        "if n< 0:\n",
        "  print(\"sorry in valid number\")\n",
        "elif n== 0:\n",
        "  print(\"congo\")\n",
        "else:\n",
        "  print(\"the factorial of the\", n,\"=\",recrusive_factorial(n))\n"
      ],
      "metadata": {
        "colab": {
          "base_uri": "https://localhost:8080/"
        },
        "id": "D-jcn1td-Qwu",
        "outputId": "98d1f2c8-07e9-4ae8-daee-ba59c58f3c2e"
      },
      "execution_count": 25,
      "outputs": [
        {
          "output_type": "stream",
          "name": "stdout",
          "text": [
            "enter the number88\n",
            "185482642257398439114796845645546284380220968949399346684421580986889562184028199319100141244804501828416633516851200000000000000000000\n",
            "the factorial of the 88 = 185482642257398439114796845645546284380220968949399346684421580986889562184028199319100141244804501828416633516851200000000000000000000\n"
          ]
        }
      ]
    },
    {
      "cell_type": "code",
      "source": [
        "def helloFunction():\n",
        "  print(\"Hello\")\n",
        "  return\n",
        "helloFunction()"
      ],
      "metadata": {
        "colab": {
          "base_uri": "https://localhost:8080/"
        },
        "id": "Bz4lpyh5_g8L",
        "outputId": "54f2fa12-95d4-4c7c-b328-e3b89be4e0d3"
      },
      "execution_count": 26,
      "outputs": [
        {
          "output_type": "stream",
          "name": "stdout",
          "text": [
            "Hello\n"
          ]
        }
      ]
    },
    {
      "cell_type": "code",
      "source": [
        "#0,1,1,2,3,5,8,13,21,34... fibonacci series\n",
        "n=int(input(\"enter the number\"))\n",
        "def series_num(n):\n",
        "  if n==0:\n",
        "     return 0\n",
        "  elif n==1:\n",
        "    return 1\n",
        "  else:\n",
        "    return (series_num(n-1)+series_num(n-2))\n",
        "#output will be the addition of the n\n",
        "print(series_num(n))\n",
        "#for loop is used to print the series\n",
        "for i in range (n):\n",
        "  print(series_num(i))"
      ],
      "metadata": {
        "colab": {
          "base_uri": "https://localhost:8080/"
        },
        "id": "vLF7bxzFIfyq",
        "outputId": "d75682e4-fa49-4440-f436-f3f6999ce6c1"
      },
      "execution_count": 45,
      "outputs": [
        {
          "output_type": "stream",
          "name": "stdout",
          "text": [
            "enter the number34\n",
            "5702887\n",
            "0\n",
            "1\n",
            "1\n",
            "2\n",
            "3\n",
            "5\n",
            "8\n",
            "13\n",
            "21\n",
            "34\n",
            "55\n",
            "89\n",
            "144\n",
            "233\n",
            "377\n",
            "610\n",
            "987\n",
            "1597\n",
            "2584\n",
            "4181\n",
            "6765\n",
            "10946\n",
            "17711\n",
            "28657\n",
            "46368\n",
            "75025\n",
            "121393\n",
            "196418\n",
            "317811\n",
            "514229\n",
            "832040\n",
            "1346269\n",
            "2178309\n",
            "3524578\n"
          ]
        }
      ]
    },
    {
      "cell_type": "code",
      "source": [],
      "metadata": {
        "id": "feRB7BQggaYW"
      },
      "execution_count": null,
      "outputs": []
    }
  ]
}