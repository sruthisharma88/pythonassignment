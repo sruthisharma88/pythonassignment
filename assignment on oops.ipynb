{
 "cells": [
  {
   "cell_type": "markdown",
   "id": "16f4bfcc",
   "metadata": {},
   "source": [
    "# 1. primary goal of OOPs in Python"
   ]
  },
  {
   "cell_type": "code",
   "execution_count": null,
   "id": "38f8136f",
   "metadata": {},
   "outputs": [],
   "source": [
    "'''object oriented programming  primary goal is used to organize and structure code in a way that it mirrors real world objects making it easier \n",
    "manage, maintain scale software systems. OOPs emphasizes concepts such as encapsulation,inheritance and polymorphism to \n",
    "promote code reusability,modularity, flexibility\n",
    "and ultimately leading to more efficient and manageable software development.We use oops sometimes to\n",
    "make our code cleaner and simpler'''\n"
   ]
  },
  {
   "cell_type": "markdown",
   "id": "a34b0f81",
   "metadata": {},
   "source": [
    "# 2. object in python "
   ]
  },
  {
   "cell_type": "code",
   "execution_count": null,
   "id": "da1f4655",
   "metadata": {},
   "outputs": [],
   "source": [
    "'''Object in python is a fundamental unit of the paradigm. An object is an instance of a class,\n",
    "which contains both data(attribute) and behavior. Object represents entities or concepts from the real world\n",
    "or the problem domain being modeled in the software.They encapsulate data and operations related to those\n",
    "data, providing a means of organing and manipulating complex systems in a more intuitive and manageable way.'''"
   ]
  },
  {
   "cell_type": "markdown",
   "id": "b80a443d",
   "metadata": {},
   "source": [
    "# 3.class in python"
   ]
  },
  {
   "cell_type": "code",
   "execution_count": null,
   "id": "08f43bbf",
   "metadata": {},
   "outputs": [],
   "source": [
    "'''Class is a blueprint or template for creating objects.It defines the properties and behaviors that \n",
    "object of that type will have. Class encapsulate the common structure and behavior shared by multiple objects.\n",
    "Classes are a powerful tool in OOP for organizing code, promoting code reuse.\n",
    "example: class phone:\n",
    "              def__init__(self,brand,model):\n",
    "                  self.brand = brand\n",
    "                  self.model=model\n",
    "              def cost(self):\n",
    "                   print(f\"{self.brand}{self.model} is costly.\")\n",
    "              '''"
   ]
  },
  {
   "cell_type": "markdown",
   "id": "9dcf88c5",
   "metadata": {},
   "source": [
    "# 4.Attributes and methods in class"
   ]
  },
  {
   "cell_type": "code",
   "execution_count": null,
   "id": "cac0f6e2",
   "metadata": {},
   "outputs": [],
   "source": [
    "''' Attributes are variables that belong to an object or a class. \n",
    "They represent the state or characteristics of the object. \n",
    "In Python, attributes are defined within the class scope using variables.\n",
    "Each instance of the class (object) has its own copy of the attributes. \n",
    "Attributes can be accessed and modified using dot notation\n",
    "\n",
    "\n",
    "Methods are functions defined within a class that operate on the object's data. \n",
    "They represent the behavior or actions that objects of the class can perform.\n",
    "Methods are defined within the class scope and can access and modify the object's attributes using the self parameter.\n",
    "Like functions, methods can take parameters and return values.'''"
   ]
  },
  {
   "cell_type": "markdown",
   "id": "4afcdf20",
   "metadata": {},
   "source": [
    "# 5.  class variables vs instance variable in python"
   ]
  },
  {
   "cell_type": "code",
   "execution_count": null,
   "id": "677e1c06",
   "metadata": {},
   "outputs": [],
   "source": [
    "'''Class Variables:\n",
    "Defined within the class but outside any instance method.\n",
    "Shared among all instances of the class.\n",
    "Accessed using the class name itself or any instance of the class.\n",
    "Useful for storing data that is common to all instances.\n",
    "\n",
    "Instance Variables:\n",
    "Defined within the constructor method (_init_) using the self keyword.\n",
    "Unique to each instance of the class.\n",
    "Accessed using the instance name.\n",
    "Useful for storing data that is specific to each instance.\n",
    "\n",
    "example:class Car:\n",
    "    # Class variable\n",
    "    num_cars = 0\n",
    "    \n",
    "    def _init_(self, brand, model):\n",
    "        # Instance variables\n",
    "        self.brand = brand\n",
    "        self.model = model\n",
    "        # Increment the number of cars each time a new instance is created\n",
    "        Car.num_cars += 1\n",
    "\n",
    "# Creating instances\n",
    "car1 = Car(\"TATA\", \"Punch\")\n",
    "car2 = Car(\"suzuki\", \"Baleno\")\n",
    "\n",
    "# Accessing instance variables\n",
    "print(car1.brand)  # Output: TATA\n",
    "print(car2.model)  # Output: Baleno\n",
    "\n",
    "# Accessing class variable\n",
    "print(Car.num_cars)  # Output: 2'''"
   ]
  },
  {
   "cell_type": "markdown",
   "id": "823a42b1",
   "metadata": {},
   "source": [
    "# 6.self parameter in python"
   ]
  },
  {
   "cell_type": "code",
   "execution_count": null,
   "id": "1e0e21ea",
   "metadata": {},
   "outputs": [],
   "source": [
    "'''Self parameter in python is to reference the current instance of a class within its methods.it serves  serval\n",
    "important purposes:\n",
    "A)accessing instance and modify instance \n",
    "b)calling other instance methods\n",
    "c)to perform operations   specific to each instance of the class.\n",
    "d)helps to distinguish between different instances of the same class\n",
    "it plays crucial role in OOPs in python by facilitatiing interaction between methods and instance-specific data within a class'''"
   ]
  },
  {
   "cell_type": "markdown",
   "id": "12c0d832",
   "metadata": {},
   "source": [
    "# 7."
   ]
  },
  {
   "cell_type": "code",
   "execution_count": null,
   "id": "1c393e36",
   "metadata": {},
   "outputs": [],
   "source": [
    "class Book:\n",
    "    def __init__(self,title,author,isbn,publication_year,available_copies):\n",
    "        self.title = title\n",
    "        self.author= author\n",
    "        self.isbn= isbn\n",
    "        self.publication_year= publicatio_year\n",
    "        self.available_copies= available_copies\n",
    "    def check_out(self):\n",
    "        if self.available_copies>0:\n",
    "            self.available_copies-=1\n",
    "            print(\"Book checked out successfully.\")\n",
    "        else:\n",
    "            print(\"no available copies for checkout.\")\n",
    "    def return_book(self):\n",
    "        self.available_copies+=1\n",
    "        print(\"book returned succussfully.\")\n",
    "    def display_book_info(self):\n",
    "        print(\"title:\", self.title)\n",
    "        print(\"author:\",self.author)\n",
    "        print(\"isbn:\",self.isbn)\n",
    "        print(\"publication year:\",self.publication_year)\n",
    "        print(\"available copies:\",self.available_copies)\n",
    "            "
   ]
  },
  {
   "cell_type": "markdown",
   "id": "292df18c",
   "metadata": {},
   "source": [
    "# 8."
   ]
  },
  {
   "cell_type": "code",
   "execution_count": null,
   "id": "6ded5dbb",
   "metadata": {},
   "outputs": [],
   "source": [
    "class ticket:\n",
    "    def __init__(self,ticket_id,event_name,event_date,venue,seat_number,price):\n",
    "        self.ticket_id= ticket_id\n",
    "        self.event_name= event_name\n",
    "        self.event_date = event_date\n",
    "        self.venue= venue\n",
    "        self.seat_number = seat_number\n",
    "        self.price = price\n",
    "        self.is_reserved = False\n",
    "    def   reserved_ticket(self):\n",
    "        if not self.is_reserved:\n",
    "            self.is_reserved = True\n",
    "            print(\"ticket reserved successfully.\")\n",
    "        else:\n",
    "            print(\"ticket is already reserved\")\n",
    "    def   cancel_reservation(self):\n",
    "        if  self.is_reserved = True\n",
    "            print(\"reservation cancelled successfully.\")\n",
    "        else:\n",
    "            print(\"ticket is not reserved\")\n",
    "    def   display_ticker_info(self):\n",
    "        print(\"ticket id:\",self.ticket_id)\n",
    "        print(\"event name:\",self.event_name)\n",
    "        print(\"event date:\",self.event_date)\n",
    "        print(\"venue:\",self.venue)\n",
    "        print(\"seat number:\",self.seat_number)\n",
    "        print(\"price:\",self.price)\n",
    "        print(\"reserved\",self.is_reserved)"
   ]
  },
  {
   "cell_type": "markdown",
   "id": "acf0941c",
   "metadata": {},
   "source": [
    "# 9."
   ]
  },
  {
   "cell_type": "code",
   "execution_count": null,
   "id": "47a26ec7",
   "metadata": {},
   "outputs": [],
   "source": [
    "class ShoppingCart:\n",
    "    def _init_(self):\n",
    "        self.items = []\n",
    "\n",
    "    def add_item(self, item):\n",
    "        self.items.append(item)\n",
    "        print(f\"{item} added to the shopping cart.\")\n",
    "\n",
    "    def remove_item(self, item):\n",
    "        if item in self.items:\n",
    "            self.items.remove(item)\n",
    "            print(f\"{item} removed from the shopping cart.\")\n",
    "        else:\n",
    "            print(f\"{item} is not in the shopping cart.\")\n",
    "\n",
    "    def view_cart(self):\n",
    "        if self.items:\n",
    "            print(\"Items in the shopping cart:\")\n",
    "            for item in self.items:\n",
    "                print(\"- \", item)\n",
    "        else:\n",
    "            print(\"The shopping cart is empty.\")\n",
    "\n",
    "    def clear_cart(self):\n",
    "        self.items = []\n",
    "        print(\"Shopping cart cleared.\")"
   ]
  },
  {
   "cell_type": "markdown",
   "id": "b1a9b6e3",
   "metadata": {},
   "source": [
    "# 10."
   ]
  },
  {
   "cell_type": "code",
   "execution_count": null,
   "id": "88c6a25f",
   "metadata": {},
   "outputs": [],
   "source": [
    "class Student:\n",
    "    def _init_(self, name, age, grade, student_id):\n",
    "        self.name = name\n",
    "        self.age = age\n",
    "        self.grade = grade\n",
    "        self.student_id = student_id\n",
    "        self.attendance = {}\n",
    "\n",
    "    def update_attendance(self, date, status):\n",
    "        self.attendance[date] = status\n",
    "\n",
    "    def get_attendance(self):\n",
    "        return self.attendance\n",
    "\n",
    "    def get_average_attendance(self):\n",
    "        total_days = len(self.attendance)\n",
    "        if total_days == 0:\n",
    "            return 0\n",
    "        present_days = sum(1 for status in self.attendance.values() if status == \"present\")\n",
    "        return (present_days / total_days) * 100"
   ]
  }
 ],
 "metadata": {
  "kernelspec": {
   "display_name": "Python 3 (ipykernel)",
   "language": "python",
   "name": "python3"
  },
  "language_info": {
   "codemirror_mode": {
    "name": "ipython",
    "version": 3
   },
   "file_extension": ".py",
   "mimetype": "text/x-python",
   "name": "python",
   "nbconvert_exporter": "python",
   "pygments_lexer": "ipython3",
   "version": "3.11.4"
  }
 },
 "nbformat": 4,
 "nbformat_minor": 5
}
